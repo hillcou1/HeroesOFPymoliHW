{
 "cells": [
  {
   "cell_type": "code",
   "execution_count": 3,
   "metadata": {},
   "outputs": [],
   "source": [
    "import pandas as pd\n",
    "import numpy as np"
   ]
  },
  {
   "cell_type": "code",
   "execution_count": 4,
   "metadata": {},
   "outputs": [],
   "source": [
    "hero_game = \"Resources/purchase_data.csv\""
   ]
  },
  {
   "cell_type": "code",
   "execution_count": 5,
   "metadata": {},
   "outputs": [],
   "source": [
    "purchase_data = pd.read_csv(hero_game)"
   ]
  },
  {
   "cell_type": "code",
   "execution_count": 6,
   "metadata": {},
   "outputs": [
    {
     "data": {
      "text/plain": [
       "(780, 7)"
      ]
     },
     "execution_count": 6,
     "metadata": {},
     "output_type": "execute_result"
    }
   ],
   "source": [
    "purchase_data.shape"
   ]
  },
  {
   "cell_type": "code",
   "execution_count": 7,
   "metadata": {
    "scrolled": true
   },
   "outputs": [
    {
     "data": {
      "text/plain": [
       "Purchase ID      int64\n",
       "SN              object\n",
       "Age              int64\n",
       "Gender          object\n",
       "Item ID          int64\n",
       "Item Name       object\n",
       "Price          float64\n",
       "dtype: object"
      ]
     },
     "execution_count": 7,
     "metadata": {},
     "output_type": "execute_result"
    }
   ],
   "source": [
    "purchase_data.dtypes"
   ]
  },
  {
   "cell_type": "code",
   "execution_count": 8,
   "metadata": {},
   "outputs": [
    {
     "data": {
      "text/html": [
       "<div>\n",
       "<style scoped>\n",
       "    .dataframe tbody tr th:only-of-type {\n",
       "        vertical-align: middle;\n",
       "    }\n",
       "\n",
       "    .dataframe tbody tr th {\n",
       "        vertical-align: top;\n",
       "    }\n",
       "\n",
       "    .dataframe thead th {\n",
       "        text-align: right;\n",
       "    }\n",
       "</style>\n",
       "<table border=\"1\" class=\"dataframe\">\n",
       "  <thead>\n",
       "    <tr style=\"text-align: right;\">\n",
       "      <th></th>\n",
       "      <th>Purchase ID</th>\n",
       "      <th>SN</th>\n",
       "      <th>Age</th>\n",
       "      <th>Gender</th>\n",
       "      <th>Item ID</th>\n",
       "      <th>Item Name</th>\n",
       "      <th>Price</th>\n",
       "    </tr>\n",
       "  </thead>\n",
       "  <tbody>\n",
       "    <tr>\n",
       "      <th>0</th>\n",
       "      <td>0</td>\n",
       "      <td>Lisim78</td>\n",
       "      <td>20</td>\n",
       "      <td>Male</td>\n",
       "      <td>108</td>\n",
       "      <td>Extraction, Quickblade Of Trembling Hands</td>\n",
       "      <td>3.53</td>\n",
       "    </tr>\n",
       "    <tr>\n",
       "      <th>1</th>\n",
       "      <td>1</td>\n",
       "      <td>Lisovynya38</td>\n",
       "      <td>40</td>\n",
       "      <td>Male</td>\n",
       "      <td>143</td>\n",
       "      <td>Frenzied Scimitar</td>\n",
       "      <td>1.56</td>\n",
       "    </tr>\n",
       "    <tr>\n",
       "      <th>2</th>\n",
       "      <td>2</td>\n",
       "      <td>Ithergue48</td>\n",
       "      <td>24</td>\n",
       "      <td>Male</td>\n",
       "      <td>92</td>\n",
       "      <td>Final Critic</td>\n",
       "      <td>4.88</td>\n",
       "    </tr>\n",
       "    <tr>\n",
       "      <th>3</th>\n",
       "      <td>3</td>\n",
       "      <td>Chamassasya86</td>\n",
       "      <td>24</td>\n",
       "      <td>Male</td>\n",
       "      <td>100</td>\n",
       "      <td>Blindscythe</td>\n",
       "      <td>3.27</td>\n",
       "    </tr>\n",
       "    <tr>\n",
       "      <th>4</th>\n",
       "      <td>4</td>\n",
       "      <td>Iskosia90</td>\n",
       "      <td>23</td>\n",
       "      <td>Male</td>\n",
       "      <td>131</td>\n",
       "      <td>Fury</td>\n",
       "      <td>1.44</td>\n",
       "    </tr>\n",
       "  </tbody>\n",
       "</table>\n",
       "</div>"
      ],
      "text/plain": [
       "   Purchase ID             SN  Age Gender  Item ID  \\\n",
       "0            0        Lisim78   20   Male      108   \n",
       "1            1    Lisovynya38   40   Male      143   \n",
       "2            2     Ithergue48   24   Male       92   \n",
       "3            3  Chamassasya86   24   Male      100   \n",
       "4            4      Iskosia90   23   Male      131   \n",
       "\n",
       "                                   Item Name  Price  \n",
       "0  Extraction, Quickblade Of Trembling Hands   3.53  \n",
       "1                          Frenzied Scimitar   1.56  \n",
       "2                               Final Critic   4.88  \n",
       "3                                Blindscythe   3.27  \n",
       "4                                       Fury   1.44  "
      ]
     },
     "execution_count": 8,
     "metadata": {},
     "output_type": "execute_result"
    }
   ],
   "source": [
    "purchase_data.head()"
   ]
  },
  {
   "cell_type": "code",
   "execution_count": 9,
   "metadata": {},
   "outputs": [
    {
     "data": {
      "text/html": [
       "<div>\n",
       "<style scoped>\n",
       "    .dataframe tbody tr th:only-of-type {\n",
       "        vertical-align: middle;\n",
       "    }\n",
       "\n",
       "    .dataframe tbody tr th {\n",
       "        vertical-align: top;\n",
       "    }\n",
       "\n",
       "    .dataframe thead th {\n",
       "        text-align: right;\n",
       "    }\n",
       "</style>\n",
       "<table border=\"1\" class=\"dataframe\">\n",
       "  <thead>\n",
       "    <tr style=\"text-align: right;\">\n",
       "      <th></th>\n",
       "      <th>Total Players</th>\n",
       "    </tr>\n",
       "  </thead>\n",
       "  <tbody>\n",
       "    <tr>\n",
       "      <th>0</th>\n",
       "      <td>576</td>\n",
       "    </tr>\n",
       "  </tbody>\n",
       "</table>\n",
       "</div>"
      ],
      "text/plain": [
       "   Total Players\n",
       "0            576"
      ]
     },
     "execution_count": 9,
     "metadata": {},
     "output_type": "execute_result"
    }
   ],
   "source": [
    "# Player Count\n",
    "total = len(purchase_data['SN'].value_counts())\n",
    "\n",
    "player_count = pd.DataFrame({\"Total Players\": [total]})\n",
    "player_count"
   ]
  },
  {
   "cell_type": "code",
   "execution_count": null,
   "metadata": {},
   "outputs": [],
   "source": [
    "#UNIQUE ITEMS"
   ]
  },
  {
   "cell_type": "code",
   "execution_count": 10,
   "metadata": {
    "scrolled": true
   },
   "outputs": [
    {
     "data": {
      "text/html": [
       "<style  type=\"text/css\" >\n",
       "</style>  \n",
       "<table id=\"T_1b308f36_59ac_11e9_bbd4_d89c6775dd6a\" > \n",
       "<thead>    <tr> \n",
       "        <th class=\"blank level0\" ></th> \n",
       "        <th class=\"col_heading level0 col0\" >Unique Items</th> \n",
       "        <th class=\"col_heading level0 col1\" >Total Revenue</th> \n",
       "        <th class=\"col_heading level0 col2\" >Total # of Purchases</th> \n",
       "        <th class=\"col_heading level0 col3\" >Average Purchase Price</th> \n",
       "    </tr></thead> \n",
       "<tbody>    <tr> \n",
       "        <th id=\"T_1b308f36_59ac_11e9_bbd4_d89c6775dd6alevel0_row0\" class=\"row_heading level0 row0\" >0</th> \n",
       "        <td id=\"T_1b308f36_59ac_11e9_bbd4_d89c6775dd6arow0_col0\" class=\"data row0 col0\" >179</td> \n",
       "        <td id=\"T_1b308f36_59ac_11e9_bbd4_d89c6775dd6arow0_col1\" class=\"data row0 col1\" >2379.77</td> \n",
       "        <td id=\"T_1b308f36_59ac_11e9_bbd4_d89c6775dd6arow0_col2\" class=\"data row0 col2\" >780</td> \n",
       "        <td id=\"T_1b308f36_59ac_11e9_bbd4_d89c6775dd6arow0_col3\" class=\"data row0 col3\" >3.05</td> \n",
       "    </tr></tbody> \n",
       "</table> "
      ],
      "text/plain": [
       "<pandas.io.formats.style.Styler at 0x1b80913a080>"
      ]
     },
     "execution_count": 10,
     "metadata": {},
     "output_type": "execute_result"
    }
   ],
   "source": [
    "# Unique Items\n",
    "total_unique = len(purchase_data['Item Name'].unique())\n",
    "\n",
    "# Total Revenue\n",
    "total_revenue = purchase_data['Price'].sum()\n",
    "\n",
    "#Total number of Purchases\n",
    "total_purchases = purchase_data['Purchase ID'].count()\n",
    "\n",
    "#Average Purchase price\n",
    "x = purchase_data['Price'].mean()\n",
    "\n",
    "pur_analysis = pd.DataFrame({\"Unique Items\": [total_unique], \n",
    "                             \"Total Revenue\": [total_revenue], \n",
    "                             \"Total # of Purchases\":[total_purchases], \"Average Purchase Price\": [x]})\n",
    "pur_analysis.style.format({\"Average Purchase Price\": \"{:,.2f}\"})"
   ]
  },
  {
   "cell_type": "code",
   "execution_count": 11,
   "metadata": {
    "scrolled": false
   },
   "outputs": [
    {
     "data": {
      "text/html": [
       "<div>\n",
       "<style scoped>\n",
       "    .dataframe tbody tr th:only-of-type {\n",
       "        vertical-align: middle;\n",
       "    }\n",
       "\n",
       "    .dataframe tbody tr th {\n",
       "        vertical-align: top;\n",
       "    }\n",
       "\n",
       "    .dataframe thead th {\n",
       "        text-align: right;\n",
       "    }\n",
       "</style>\n",
       "<table border=\"1\" class=\"dataframe\">\n",
       "  <thead>\n",
       "    <tr style=\"text-align: right;\">\n",
       "      <th></th>\n",
       "      <th>Percentage of Players</th>\n",
       "      <th>Total Count</th>\n",
       "    </tr>\n",
       "  </thead>\n",
       "  <tbody>\n",
       "    <tr>\n",
       "      <th>Female</th>\n",
       "      <td>14.062500</td>\n",
       "      <td>81</td>\n",
       "    </tr>\n",
       "    <tr>\n",
       "      <th>Male</th>\n",
       "      <td>84.027778</td>\n",
       "      <td>484</td>\n",
       "    </tr>\n",
       "    <tr>\n",
       "      <th>Other / Non-Disclosed</th>\n",
       "      <td>1.909722</td>\n",
       "      <td>11</td>\n",
       "    </tr>\n",
       "  </tbody>\n",
       "</table>\n",
       "</div>"
      ],
      "text/plain": [
       "                       Percentage of Players  Total Count\n",
       "Female                             14.062500           81\n",
       "Male                               84.027778          484\n",
       "Other / Non-Disclosed               1.909722           11"
      ]
     },
     "execution_count": 11,
     "metadata": {},
     "output_type": "execute_result"
    }
   ],
   "source": [
    "#GENDER DEMOGRAPHICS\n",
    "genders = purchase_data.groupby(\"Gender\")[\"SN\"].nunique()\n",
    "\n",
    "#Percentage by Gender\n",
    "percentage = genders / len(purchase_data['SN'].value_counts()) * 100\n",
    "\n",
    "percent_gender = pd.DataFrame({\"Percentage of Players\": percentage, \n",
    "                               \"Total Count\": genders})\n",
    "percent_gender.index.name = None\n",
    "percent_gender"
   ]
  },
  {
   "cell_type": "code",
   "execution_count": null,
   "metadata": {},
   "outputs": [],
   "source": []
  },
  {
   "cell_type": "code",
   "execution_count": null,
   "metadata": {},
   "outputs": [],
   "source": [
    "#PURCHASING ANALYSIS BY GENDER"
   ]
  },
  {
   "cell_type": "code",
   "execution_count": 12,
   "metadata": {},
   "outputs": [],
   "source": [
    "gender_demo = purchase_data.groupby(\"Gender\")"
   ]
  },
  {
   "cell_type": "code",
   "execution_count": 26,
   "metadata": {
    "scrolled": false
   },
   "outputs": [
    {
     "data": {
      "text/html": [
       "<style  type=\"text/css\" >\n",
       "</style>  \n",
       "<table id=\"T_607a56e8_59ad_11e9_915a_d89c6775dd6a\" > \n",
       "<thead>    <tr> \n",
       "        <th class=\"blank level0\" ></th> \n",
       "        <th class=\"col_heading level0 col0\" >Purchase Count</th> \n",
       "        <th class=\"col_heading level0 col1\" >Average Purchase Price</th> \n",
       "        <th class=\"col_heading level0 col2\" >Total Purchase</th> \n",
       "        <th class=\"col_heading level0 col3\" >Avg Purchase/Person by Gender</th> \n",
       "    </tr>    <tr> \n",
       "        <th class=\"index_name level0\" >Gender</th> \n",
       "        <th class=\"blank\" ></th> \n",
       "        <th class=\"blank\" ></th> \n",
       "        <th class=\"blank\" ></th> \n",
       "        <th class=\"blank\" ></th> \n",
       "    </tr></thead> \n",
       "<tbody>    <tr> \n",
       "        <th id=\"T_607a56e8_59ad_11e9_915a_d89c6775dd6alevel0_row0\" class=\"row_heading level0 row0\" >Female</th> \n",
       "        <td id=\"T_607a56e8_59ad_11e9_915a_d89c6775dd6arow0_col0\" class=\"data row0 col0\" >113</td> \n",
       "        <td id=\"T_607a56e8_59ad_11e9_915a_d89c6775dd6arow0_col1\" class=\"data row0 col1\" >$3.20</td> \n",
       "        <td id=\"T_607a56e8_59ad_11e9_915a_d89c6775dd6arow0_col2\" class=\"data row0 col2\" >$361.94</td> \n",
       "        <td id=\"T_607a56e8_59ad_11e9_915a_d89c6775dd6arow0_col3\" class=\"data row0 col3\" >$4.47</td> \n",
       "    </tr>    <tr> \n",
       "        <th id=\"T_607a56e8_59ad_11e9_915a_d89c6775dd6alevel0_row1\" class=\"row_heading level0 row1\" >Male</th> \n",
       "        <td id=\"T_607a56e8_59ad_11e9_915a_d89c6775dd6arow1_col0\" class=\"data row1 col0\" >652</td> \n",
       "        <td id=\"T_607a56e8_59ad_11e9_915a_d89c6775dd6arow1_col1\" class=\"data row1 col1\" >$3.02</td> \n",
       "        <td id=\"T_607a56e8_59ad_11e9_915a_d89c6775dd6arow1_col2\" class=\"data row1 col2\" >$1,967.64</td> \n",
       "        <td id=\"T_607a56e8_59ad_11e9_915a_d89c6775dd6arow1_col3\" class=\"data row1 col3\" >$4.07</td> \n",
       "    </tr>    <tr> \n",
       "        <th id=\"T_607a56e8_59ad_11e9_915a_d89c6775dd6alevel0_row2\" class=\"row_heading level0 row2\" >Other / Non-Disclosed</th> \n",
       "        <td id=\"T_607a56e8_59ad_11e9_915a_d89c6775dd6arow2_col0\" class=\"data row2 col0\" >15</td> \n",
       "        <td id=\"T_607a56e8_59ad_11e9_915a_d89c6775dd6arow2_col1\" class=\"data row2 col1\" >$3.35</td> \n",
       "        <td id=\"T_607a56e8_59ad_11e9_915a_d89c6775dd6arow2_col2\" class=\"data row2 col2\" >$50.19</td> \n",
       "        <td id=\"T_607a56e8_59ad_11e9_915a_d89c6775dd6arow2_col3\" class=\"data row2 col3\" >$4.56</td> \n",
       "    </tr></tbody> \n",
       "</table> "
      ],
      "text/plain": [
       "<pandas.io.formats.style.Styler at 0x1b809fffbe0>"
      ]
     },
     "execution_count": 26,
     "metadata": {},
     "output_type": "execute_result"
    }
   ],
   "source": [
    "#Purchase Count by Gender\n",
    "purchase_count = gender_demo[\"Purchase ID\"].count()\n",
    "\n",
    "# Average Purchase Price\n",
    "average_price = gender_demo[\"Price\"].mean()\n",
    "\n",
    "#Total Purchase Value\n",
    "total_purchase = gender_demo[\"Price\"].sum()\n",
    "\n",
    "#Average Purchase per person by gender\n",
    "avg_person = total_purchase/genders\n",
    "\n",
    "gender_analysis = pd.DataFrame({\"Purchase Count\": purchase_count, \n",
    "                                \"Average Purchase Price\": average_price, \n",
    "                                \"Total Purchase\": total_purchase, \"Avg Purchase/Person by Gender\": avg_person})\n",
    "gender_analysis.style.format({\"Avg Purchase/Person by Gender\": \"${:,.2f}\", \n",
    "                              \"Average Purchase Price\": \"${:,.2f}\", \n",
    "                             \"Total Purchase\": \"${:,.2f}\"})\n"
   ]
  },
  {
   "cell_type": "code",
   "execution_count": null,
   "metadata": {},
   "outputs": [],
   "source": []
  },
  {
   "cell_type": "code",
   "execution_count": 14,
   "metadata": {},
   "outputs": [
    {
     "name": "stdout",
     "output_type": "stream",
     "text": [
      "45\n",
      "7\n"
     ]
    }
   ],
   "source": [
    "print(purchase_data[\"Age\"].max())\n",
    "print(purchase_data[\"Age\"].min())"
   ]
  },
  {
   "cell_type": "code",
   "execution_count": 15,
   "metadata": {},
   "outputs": [],
   "source": [
    "#Age Demographics\n",
    "bins = [0, 9.9, 14.9, 19.9, 24.9, 29.9, 34.9, 39.9, 50.9]\n",
    "age_groups = [\"<10\", \"10-14\", \"15-19\", \"20-24\", \"25-29\", \"30-34\", \"35-39\", \"40+\"]"
   ]
  },
  {
   "cell_type": "code",
   "execution_count": 16,
   "metadata": {},
   "outputs": [
    {
     "data": {
      "text/html": [
       "<style  type=\"text/css\" >\n",
       "</style>  \n",
       "<table id=\"T_2337de82_59ac_11e9_9e8d_d89c6775dd6a\" > \n",
       "<thead>    <tr> \n",
       "        <th class=\"blank level0\" ></th> \n",
       "        <th class=\"col_heading level0 col0\" >Total Count</th> \n",
       "        <th class=\"col_heading level0 col1\" >Percentage of Players</th> \n",
       "    </tr>    <tr> \n",
       "        <th class=\"index_name level0\" >Age Groups</th> \n",
       "        <th class=\"blank\" ></th> \n",
       "        <th class=\"blank\" ></th> \n",
       "    </tr></thead> \n",
       "<tbody>    <tr> \n",
       "        <th id=\"T_2337de82_59ac_11e9_9e8d_d89c6775dd6alevel0_row0\" class=\"row_heading level0 row0\" ><10</th> \n",
       "        <td id=\"T_2337de82_59ac_11e9_9e8d_d89c6775dd6arow0_col0\" class=\"data row0 col0\" >17</td> \n",
       "        <td id=\"T_2337de82_59ac_11e9_9e8d_d89c6775dd6arow0_col1\" class=\"data row0 col1\" >2.95</td> \n",
       "    </tr>    <tr> \n",
       "        <th id=\"T_2337de82_59ac_11e9_9e8d_d89c6775dd6alevel0_row1\" class=\"row_heading level0 row1\" >10-14</th> \n",
       "        <td id=\"T_2337de82_59ac_11e9_9e8d_d89c6775dd6arow1_col0\" class=\"data row1 col0\" >22</td> \n",
       "        <td id=\"T_2337de82_59ac_11e9_9e8d_d89c6775dd6arow1_col1\" class=\"data row1 col1\" >3.82</td> \n",
       "    </tr>    <tr> \n",
       "        <th id=\"T_2337de82_59ac_11e9_9e8d_d89c6775dd6alevel0_row2\" class=\"row_heading level0 row2\" >15-19</th> \n",
       "        <td id=\"T_2337de82_59ac_11e9_9e8d_d89c6775dd6arow2_col0\" class=\"data row2 col0\" >107</td> \n",
       "        <td id=\"T_2337de82_59ac_11e9_9e8d_d89c6775dd6arow2_col1\" class=\"data row2 col1\" >18.58</td> \n",
       "    </tr>    <tr> \n",
       "        <th id=\"T_2337de82_59ac_11e9_9e8d_d89c6775dd6alevel0_row3\" class=\"row_heading level0 row3\" >20-24</th> \n",
       "        <td id=\"T_2337de82_59ac_11e9_9e8d_d89c6775dd6arow3_col0\" class=\"data row3 col0\" >258</td> \n",
       "        <td id=\"T_2337de82_59ac_11e9_9e8d_d89c6775dd6arow3_col1\" class=\"data row3 col1\" >44.79</td> \n",
       "    </tr>    <tr> \n",
       "        <th id=\"T_2337de82_59ac_11e9_9e8d_d89c6775dd6alevel0_row4\" class=\"row_heading level0 row4\" >25-29</th> \n",
       "        <td id=\"T_2337de82_59ac_11e9_9e8d_d89c6775dd6arow4_col0\" class=\"data row4 col0\" >77</td> \n",
       "        <td id=\"T_2337de82_59ac_11e9_9e8d_d89c6775dd6arow4_col1\" class=\"data row4 col1\" >13.37</td> \n",
       "    </tr>    <tr> \n",
       "        <th id=\"T_2337de82_59ac_11e9_9e8d_d89c6775dd6alevel0_row5\" class=\"row_heading level0 row5\" >30-34</th> \n",
       "        <td id=\"T_2337de82_59ac_11e9_9e8d_d89c6775dd6arow5_col0\" class=\"data row5 col0\" >52</td> \n",
       "        <td id=\"T_2337de82_59ac_11e9_9e8d_d89c6775dd6arow5_col1\" class=\"data row5 col1\" >9.03</td> \n",
       "    </tr>    <tr> \n",
       "        <th id=\"T_2337de82_59ac_11e9_9e8d_d89c6775dd6alevel0_row6\" class=\"row_heading level0 row6\" >35-39</th> \n",
       "        <td id=\"T_2337de82_59ac_11e9_9e8d_d89c6775dd6arow6_col0\" class=\"data row6 col0\" >31</td> \n",
       "        <td id=\"T_2337de82_59ac_11e9_9e8d_d89c6775dd6arow6_col1\" class=\"data row6 col1\" >5.38</td> \n",
       "    </tr>    <tr> \n",
       "        <th id=\"T_2337de82_59ac_11e9_9e8d_d89c6775dd6alevel0_row7\" class=\"row_heading level0 row7\" >40+</th> \n",
       "        <td id=\"T_2337de82_59ac_11e9_9e8d_d89c6775dd6arow7_col0\" class=\"data row7 col0\" >12</td> \n",
       "        <td id=\"T_2337de82_59ac_11e9_9e8d_d89c6775dd6arow7_col1\" class=\"data row7 col1\" >2.08</td> \n",
       "    </tr></tbody> \n",
       "</table> "
      ],
      "text/plain": [
       "<pandas.io.formats.style.Styler at 0x1b809fe9400>"
      ]
     },
     "execution_count": 16,
     "metadata": {},
     "output_type": "execute_result"
    }
   ],
   "source": [
    "purchase_data[\"Age Groups\"] = pd.cut(purchase_data[\"Age\"], bins, labels=age_groups)\n",
    "df = purchase_data.groupby(\"Age Groups\")\n",
    "\n",
    "total_agect = df[\"SN\"].nunique()\n",
    "percent_age = total_agect/ len(purchase_data['SN'].value_counts()) * 100\n",
    "\n",
    "age_demo = pd.DataFrame({\"Total Count\": total_agect, \"Percentage of Players\": percent_age})\n",
    "age_demo.style.format({\"Percentage of Players\": \"{:,.2f}\"})"
   ]
  },
  {
   "cell_type": "code",
   "execution_count": null,
   "metadata": {},
   "outputs": [],
   "source": []
  },
  {
   "cell_type": "code",
   "execution_count": null,
   "metadata": {},
   "outputs": [],
   "source": [
    "#PURCHASING ANALYSIS BY AGE"
   ]
  },
  {
   "cell_type": "code",
   "execution_count": 17,
   "metadata": {
    "scrolled": false
   },
   "outputs": [
    {
     "data": {
      "text/html": [
       "<style  type=\"text/css\" >\n",
       "</style>  \n",
       "<table id=\"T_256fb9c6_59ac_11e9_a62f_d89c6775dd6a\" > \n",
       "<thead>    <tr> \n",
       "        <th class=\"blank level0\" ></th> \n",
       "        <th class=\"col_heading level0 col0\" >Purchase Count</th> \n",
       "        <th class=\"col_heading level0 col1\" >Average Purchase Price</th> \n",
       "        <th class=\"col_heading level0 col2\" >Total Purchase Value</th> \n",
       "        <th class=\"col_heading level0 col3\" >Average Purchase by Age Group</th> \n",
       "    </tr>    <tr> \n",
       "        <th class=\"index_name level0\" >Age Groups</th> \n",
       "        <th class=\"blank\" ></th> \n",
       "        <th class=\"blank\" ></th> \n",
       "        <th class=\"blank\" ></th> \n",
       "        <th class=\"blank\" ></th> \n",
       "    </tr></thead> \n",
       "<tbody>    <tr> \n",
       "        <th id=\"T_256fb9c6_59ac_11e9_a62f_d89c6775dd6alevel0_row0\" class=\"row_heading level0 row0\" ><10</th> \n",
       "        <td id=\"T_256fb9c6_59ac_11e9_a62f_d89c6775dd6arow0_col0\" class=\"data row0 col0\" >23</td> \n",
       "        <td id=\"T_256fb9c6_59ac_11e9_a62f_d89c6775dd6arow0_col1\" class=\"data row0 col1\" >$3.35</td> \n",
       "        <td id=\"T_256fb9c6_59ac_11e9_a62f_d89c6775dd6arow0_col2\" class=\"data row0 col2\" >77.13</td> \n",
       "        <td id=\"T_256fb9c6_59ac_11e9_a62f_d89c6775dd6arow0_col3\" class=\"data row0 col3\" >0.13</td> \n",
       "    </tr>    <tr> \n",
       "        <th id=\"T_256fb9c6_59ac_11e9_a62f_d89c6775dd6alevel0_row1\" class=\"row_heading level0 row1\" >10-14</th> \n",
       "        <td id=\"T_256fb9c6_59ac_11e9_a62f_d89c6775dd6arow1_col0\" class=\"data row1 col0\" >28</td> \n",
       "        <td id=\"T_256fb9c6_59ac_11e9_a62f_d89c6775dd6arow1_col1\" class=\"data row1 col1\" >$2.96</td> \n",
       "        <td id=\"T_256fb9c6_59ac_11e9_a62f_d89c6775dd6arow1_col2\" class=\"data row1 col2\" >82.78</td> \n",
       "        <td id=\"T_256fb9c6_59ac_11e9_a62f_d89c6775dd6arow1_col3\" class=\"data row1 col3\" >0.14</td> \n",
       "    </tr>    <tr> \n",
       "        <th id=\"T_256fb9c6_59ac_11e9_a62f_d89c6775dd6alevel0_row2\" class=\"row_heading level0 row2\" >15-19</th> \n",
       "        <td id=\"T_256fb9c6_59ac_11e9_a62f_d89c6775dd6arow2_col0\" class=\"data row2 col0\" >136</td> \n",
       "        <td id=\"T_256fb9c6_59ac_11e9_a62f_d89c6775dd6arow2_col1\" class=\"data row2 col1\" >$3.04</td> \n",
       "        <td id=\"T_256fb9c6_59ac_11e9_a62f_d89c6775dd6arow2_col2\" class=\"data row2 col2\" >412.89</td> \n",
       "        <td id=\"T_256fb9c6_59ac_11e9_a62f_d89c6775dd6arow2_col3\" class=\"data row2 col3\" >0.72</td> \n",
       "    </tr>    <tr> \n",
       "        <th id=\"T_256fb9c6_59ac_11e9_a62f_d89c6775dd6alevel0_row3\" class=\"row_heading level0 row3\" >20-24</th> \n",
       "        <td id=\"T_256fb9c6_59ac_11e9_a62f_d89c6775dd6arow3_col0\" class=\"data row3 col0\" >365</td> \n",
       "        <td id=\"T_256fb9c6_59ac_11e9_a62f_d89c6775dd6arow3_col1\" class=\"data row3 col1\" >$3.05</td> \n",
       "        <td id=\"T_256fb9c6_59ac_11e9_a62f_d89c6775dd6arow3_col2\" class=\"data row3 col2\" >1114.06</td> \n",
       "        <td id=\"T_256fb9c6_59ac_11e9_a62f_d89c6775dd6arow3_col3\" class=\"data row3 col3\" >1.93</td> \n",
       "    </tr>    <tr> \n",
       "        <th id=\"T_256fb9c6_59ac_11e9_a62f_d89c6775dd6alevel0_row4\" class=\"row_heading level0 row4\" >25-29</th> \n",
       "        <td id=\"T_256fb9c6_59ac_11e9_a62f_d89c6775dd6arow4_col0\" class=\"data row4 col0\" >101</td> \n",
       "        <td id=\"T_256fb9c6_59ac_11e9_a62f_d89c6775dd6arow4_col1\" class=\"data row4 col1\" >$2.90</td> \n",
       "        <td id=\"T_256fb9c6_59ac_11e9_a62f_d89c6775dd6arow4_col2\" class=\"data row4 col2\" >293</td> \n",
       "        <td id=\"T_256fb9c6_59ac_11e9_a62f_d89c6775dd6arow4_col3\" class=\"data row4 col3\" >0.51</td> \n",
       "    </tr>    <tr> \n",
       "        <th id=\"T_256fb9c6_59ac_11e9_a62f_d89c6775dd6alevel0_row5\" class=\"row_heading level0 row5\" >30-34</th> \n",
       "        <td id=\"T_256fb9c6_59ac_11e9_a62f_d89c6775dd6arow5_col0\" class=\"data row5 col0\" >73</td> \n",
       "        <td id=\"T_256fb9c6_59ac_11e9_a62f_d89c6775dd6arow5_col1\" class=\"data row5 col1\" >$2.93</td> \n",
       "        <td id=\"T_256fb9c6_59ac_11e9_a62f_d89c6775dd6arow5_col2\" class=\"data row5 col2\" >214</td> \n",
       "        <td id=\"T_256fb9c6_59ac_11e9_a62f_d89c6775dd6arow5_col3\" class=\"data row5 col3\" >0.37</td> \n",
       "    </tr>    <tr> \n",
       "        <th id=\"T_256fb9c6_59ac_11e9_a62f_d89c6775dd6alevel0_row6\" class=\"row_heading level0 row6\" >35-39</th> \n",
       "        <td id=\"T_256fb9c6_59ac_11e9_a62f_d89c6775dd6arow6_col0\" class=\"data row6 col0\" >41</td> \n",
       "        <td id=\"T_256fb9c6_59ac_11e9_a62f_d89c6775dd6arow6_col1\" class=\"data row6 col1\" >$3.60</td> \n",
       "        <td id=\"T_256fb9c6_59ac_11e9_a62f_d89c6775dd6arow6_col2\" class=\"data row6 col2\" >147.67</td> \n",
       "        <td id=\"T_256fb9c6_59ac_11e9_a62f_d89c6775dd6arow6_col3\" class=\"data row6 col3\" >0.26</td> \n",
       "    </tr>    <tr> \n",
       "        <th id=\"T_256fb9c6_59ac_11e9_a62f_d89c6775dd6alevel0_row7\" class=\"row_heading level0 row7\" >40+</th> \n",
       "        <td id=\"T_256fb9c6_59ac_11e9_a62f_d89c6775dd6arow7_col0\" class=\"data row7 col0\" >13</td> \n",
       "        <td id=\"T_256fb9c6_59ac_11e9_a62f_d89c6775dd6arow7_col1\" class=\"data row7 col1\" >$2.94</td> \n",
       "        <td id=\"T_256fb9c6_59ac_11e9_a62f_d89c6775dd6arow7_col2\" class=\"data row7 col2\" >38.24</td> \n",
       "        <td id=\"T_256fb9c6_59ac_11e9_a62f_d89c6775dd6arow7_col3\" class=\"data row7 col3\" >0.07</td> \n",
       "    </tr></tbody> \n",
       "</table> "
      ],
      "text/plain": [
       "<pandas.io.formats.style.Styler at 0x1b809fe9588>"
      ]
     },
     "execution_count": 17,
     "metadata": {},
     "output_type": "execute_result"
    }
   ],
   "source": [
    "purchase_ct = df[\"Purchase ID\"].count()\n",
    "\n",
    "# Average Purchase Price\n",
    "average_pr = df[\"Price\"].mean()\n",
    "\n",
    "#Total Purchase Value\n",
    "purchase_value = df[\"Price\"].sum()\n",
    "\n",
    "#Average Purchase by age group\n",
    "avg_age = purchase_value/ len(purchase_data['SN'].value_counts())\n",
    "\n",
    "\n",
    "age_analysis = pd.DataFrame({\"Purchase Count\": purchase_ct, \n",
    "                             \"Average Purchase Price\": average_pr, \n",
    "                             \"Total Purchase Value\": purchase_value, \n",
    "                             \"Average Purchase by Age Group\": avg_age})\n",
    "age_analysis.style.format({\"Average Purchase Price\": \"${:,.2f}\", \n",
    "                           \"Average Purchase by Age Group\":\"{:,.2f}\"})"
   ]
  },
  {
   "cell_type": "code",
   "execution_count": 18,
   "metadata": {},
   "outputs": [
    {
     "data": {
      "text/html": [
       "<style  type=\"text/css\" >\n",
       "</style>  \n",
       "<table id=\"T_2640c008_59ac_11e9_b5e8_d89c6775dd6a\" > \n",
       "<thead>    <tr> \n",
       "        <th class=\"blank level0\" ></th> \n",
       "        <th class=\"col_heading level0 col0\" >Purchase Count</th> \n",
       "        <th class=\"col_heading level0 col1\" >Average Purchase Price</th> \n",
       "        <th class=\"col_heading level0 col2\" >Total Purchase Value</th> \n",
       "    </tr>    <tr> \n",
       "        <th class=\"index_name level0\" >SN</th> \n",
       "        <th class=\"blank\" ></th> \n",
       "        <th class=\"blank\" ></th> \n",
       "        <th class=\"blank\" ></th> \n",
       "    </tr></thead> \n",
       "<tbody>    <tr> \n",
       "        <th id=\"T_2640c008_59ac_11e9_b5e8_d89c6775dd6alevel0_row0\" class=\"row_heading level0 row0\" >Lisosia93</th> \n",
       "        <td id=\"T_2640c008_59ac_11e9_b5e8_d89c6775dd6arow0_col0\" class=\"data row0 col0\" >5</td> \n",
       "        <td id=\"T_2640c008_59ac_11e9_b5e8_d89c6775dd6arow0_col1\" class=\"data row0 col1\" >$3.79</td> \n",
       "        <td id=\"T_2640c008_59ac_11e9_b5e8_d89c6775dd6arow0_col2\" class=\"data row0 col2\" >18.96</td> \n",
       "    </tr>    <tr> \n",
       "        <th id=\"T_2640c008_59ac_11e9_b5e8_d89c6775dd6alevel0_row1\" class=\"row_heading level0 row1\" >Idastidru52</th> \n",
       "        <td id=\"T_2640c008_59ac_11e9_b5e8_d89c6775dd6arow1_col0\" class=\"data row1 col0\" >4</td> \n",
       "        <td id=\"T_2640c008_59ac_11e9_b5e8_d89c6775dd6arow1_col1\" class=\"data row1 col1\" >$3.86</td> \n",
       "        <td id=\"T_2640c008_59ac_11e9_b5e8_d89c6775dd6arow1_col2\" class=\"data row1 col2\" >15.45</td> \n",
       "    </tr>    <tr> \n",
       "        <th id=\"T_2640c008_59ac_11e9_b5e8_d89c6775dd6alevel0_row2\" class=\"row_heading level0 row2\" >Chamjask73</th> \n",
       "        <td id=\"T_2640c008_59ac_11e9_b5e8_d89c6775dd6arow2_col0\" class=\"data row2 col0\" >3</td> \n",
       "        <td id=\"T_2640c008_59ac_11e9_b5e8_d89c6775dd6arow2_col1\" class=\"data row2 col1\" >$4.61</td> \n",
       "        <td id=\"T_2640c008_59ac_11e9_b5e8_d89c6775dd6arow2_col2\" class=\"data row2 col2\" >13.83</td> \n",
       "    </tr>    <tr> \n",
       "        <th id=\"T_2640c008_59ac_11e9_b5e8_d89c6775dd6alevel0_row3\" class=\"row_heading level0 row3\" >Iral74</th> \n",
       "        <td id=\"T_2640c008_59ac_11e9_b5e8_d89c6775dd6arow3_col0\" class=\"data row3 col0\" >4</td> \n",
       "        <td id=\"T_2640c008_59ac_11e9_b5e8_d89c6775dd6arow3_col1\" class=\"data row3 col1\" >$3.40</td> \n",
       "        <td id=\"T_2640c008_59ac_11e9_b5e8_d89c6775dd6arow3_col2\" class=\"data row3 col2\" >13.62</td> \n",
       "    </tr>    <tr> \n",
       "        <th id=\"T_2640c008_59ac_11e9_b5e8_d89c6775dd6alevel0_row4\" class=\"row_heading level0 row4\" >Iskadarya95</th> \n",
       "        <td id=\"T_2640c008_59ac_11e9_b5e8_d89c6775dd6arow4_col0\" class=\"data row4 col0\" >3</td> \n",
       "        <td id=\"T_2640c008_59ac_11e9_b5e8_d89c6775dd6arow4_col1\" class=\"data row4 col1\" >$4.37</td> \n",
       "        <td id=\"T_2640c008_59ac_11e9_b5e8_d89c6775dd6arow4_col2\" class=\"data row4 col2\" >13.1</td> \n",
       "    </tr></tbody> \n",
       "</table> "
      ],
      "text/plain": [
       "<pandas.io.formats.style.Styler at 0x1b809fff7f0>"
      ]
     },
     "execution_count": 18,
     "metadata": {},
     "output_type": "execute_result"
    }
   ],
   "source": [
    "# TOP SPENDERS\n",
    "top_spenders = purchase_data.groupby(\"SN\")\n",
    "\n",
    "#Purchase Count\n",
    "top_purchase = top_spenders[\"Purchase ID\"].count()\n",
    "\n",
    "#Average Purchase Price\n",
    "top_price = top_spenders[\"Price\"].mean()\n",
    "\n",
    "# Total Purchase Value\n",
    "top_value = top_spenders[\"Price\"].sum()\n",
    "\n",
    "big_spenders = pd.DataFrame({\"Purchase Count\": top_purchase, \n",
    "                             \"Average Purchase Price\": top_price, \n",
    "                            \"Total Purchase Value\": top_value})\n",
    "\n",
    "top_five = big_spenders.sort_values([\"Total Purchase Value\"], ascending=False).head()\n",
    "top_five.style.format({\"Average Purchase Price\": \"${:,.2f}\"})"
   ]
  },
  {
   "cell_type": "code",
   "execution_count": null,
   "metadata": {},
   "outputs": [],
   "source": [
    "#MOST POPULAR ITEMS"
   ]
  },
  {
   "cell_type": "code",
   "execution_count": 19,
   "metadata": {
    "scrolled": true
   },
   "outputs": [
    {
     "data": {
      "text/html": [
       "<div>\n",
       "<style scoped>\n",
       "    .dataframe tbody tr th:only-of-type {\n",
       "        vertical-align: middle;\n",
       "    }\n",
       "\n",
       "    .dataframe tbody tr th {\n",
       "        vertical-align: top;\n",
       "    }\n",
       "\n",
       "    .dataframe thead th {\n",
       "        text-align: right;\n",
       "    }\n",
       "</style>\n",
       "<table border=\"1\" class=\"dataframe\">\n",
       "  <thead>\n",
       "    <tr style=\"text-align: right;\">\n",
       "      <th></th>\n",
       "      <th></th>\n",
       "      <th>Purchase Count</th>\n",
       "      <th>Item Price</th>\n",
       "      <th>Total Purchase Value</th>\n",
       "    </tr>\n",
       "    <tr>\n",
       "      <th>Item ID</th>\n",
       "      <th>Item Name</th>\n",
       "      <th></th>\n",
       "      <th></th>\n",
       "      <th></th>\n",
       "    </tr>\n",
       "  </thead>\n",
       "  <tbody>\n",
       "    <tr>\n",
       "      <th>178</th>\n",
       "      <th>Oathbreaker, Last Hope of the Breaking Storm</th>\n",
       "      <td>12</td>\n",
       "      <td>4.23</td>\n",
       "      <td>50.76</td>\n",
       "    </tr>\n",
       "    <tr>\n",
       "      <th>145</th>\n",
       "      <th>Fiery Glass Crusader</th>\n",
       "      <td>9</td>\n",
       "      <td>4.58</td>\n",
       "      <td>41.22</td>\n",
       "    </tr>\n",
       "    <tr>\n",
       "      <th>108</th>\n",
       "      <th>Extraction, Quickblade Of Trembling Hands</th>\n",
       "      <td>9</td>\n",
       "      <td>3.53</td>\n",
       "      <td>31.77</td>\n",
       "    </tr>\n",
       "    <tr>\n",
       "      <th>82</th>\n",
       "      <th>Nirvana</th>\n",
       "      <td>9</td>\n",
       "      <td>4.90</td>\n",
       "      <td>44.10</td>\n",
       "    </tr>\n",
       "    <tr>\n",
       "      <th>19</th>\n",
       "      <th>Pursuit, Cudgel of Necromancy</th>\n",
       "      <td>8</td>\n",
       "      <td>1.02</td>\n",
       "      <td>8.16</td>\n",
       "    </tr>\n",
       "  </tbody>\n",
       "</table>\n",
       "</div>"
      ],
      "text/plain": [
       "                                                      Purchase Count  \\\n",
       "Item ID Item Name                                                      \n",
       "178     Oathbreaker, Last Hope of the Breaking Storm              12   \n",
       "145     Fiery Glass Crusader                                       9   \n",
       "108     Extraction, Quickblade Of Trembling Hands                  9   \n",
       "82      Nirvana                                                    9   \n",
       "19      Pursuit, Cudgel of Necromancy                              8   \n",
       "\n",
       "                                                      Item Price  \\\n",
       "Item ID Item Name                                                  \n",
       "178     Oathbreaker, Last Hope of the Breaking Storm        4.23   \n",
       "145     Fiery Glass Crusader                                4.58   \n",
       "108     Extraction, Quickblade Of Trembling Hands           3.53   \n",
       "82      Nirvana                                             4.90   \n",
       "19      Pursuit, Cudgel of Necromancy                       1.02   \n",
       "\n",
       "                                                      Total Purchase Value  \n",
       "Item ID Item Name                                                           \n",
       "178     Oathbreaker, Last Hope of the Breaking Storm                 50.76  \n",
       "145     Fiery Glass Crusader                                         41.22  \n",
       "108     Extraction, Quickblade Of Trembling Hands                    31.77  \n",
       "82      Nirvana                                                      44.10  \n",
       "19      Pursuit, Cudgel of Necromancy                                 8.16  "
      ]
     },
     "execution_count": 19,
     "metadata": {},
     "output_type": "execute_result"
    }
   ],
   "source": [
    "pop_items = purchase_data.groupby([\"Item ID\", \"Item Name\"])\n",
    "\n",
    "#Purchase Count\n",
    "popular_ct = pop_items[\"Purchase ID\"].count()\n",
    "\n",
    "#Total Value\n",
    "item_value = pop_items[\"Price\"].sum()\n",
    "\n",
    "#Item Price\n",
    "item_price = item_value/popular_ct\n",
    "\n",
    "most_popular = pd.DataFrame({\"Purchase Count\": popular_ct, \n",
    "                             \"Item Price\": item_price, \n",
    "                            \"Total Purchase Value\": item_value})\n",
    "most_popular.sort_values([\"Purchase Count\"], ascending=False).head()"
   ]
  },
  {
   "cell_type": "code",
   "execution_count": null,
   "metadata": {},
   "outputs": [],
   "source": [
    "#MOST PROFITABLE"
   ]
  },
  {
   "cell_type": "code",
   "execution_count": 20,
   "metadata": {
    "scrolled": true
   },
   "outputs": [
    {
     "data": {
      "text/html": [
       "<div>\n",
       "<style scoped>\n",
       "    .dataframe tbody tr th:only-of-type {\n",
       "        vertical-align: middle;\n",
       "    }\n",
       "\n",
       "    .dataframe tbody tr th {\n",
       "        vertical-align: top;\n",
       "    }\n",
       "\n",
       "    .dataframe thead th {\n",
       "        text-align: right;\n",
       "    }\n",
       "</style>\n",
       "<table border=\"1\" class=\"dataframe\">\n",
       "  <thead>\n",
       "    <tr style=\"text-align: right;\">\n",
       "      <th></th>\n",
       "      <th></th>\n",
       "      <th>Purchase Count</th>\n",
       "      <th>Item Price</th>\n",
       "      <th>Total Purchase Value</th>\n",
       "    </tr>\n",
       "    <tr>\n",
       "      <th>Item ID</th>\n",
       "      <th>Item Name</th>\n",
       "      <th></th>\n",
       "      <th></th>\n",
       "      <th></th>\n",
       "    </tr>\n",
       "  </thead>\n",
       "  <tbody>\n",
       "    <tr>\n",
       "      <th>178</th>\n",
       "      <th>Oathbreaker, Last Hope of the Breaking Storm</th>\n",
       "      <td>12</td>\n",
       "      <td>4.23</td>\n",
       "      <td>50.76</td>\n",
       "    </tr>\n",
       "    <tr>\n",
       "      <th>82</th>\n",
       "      <th>Nirvana</th>\n",
       "      <td>9</td>\n",
       "      <td>4.90</td>\n",
       "      <td>44.10</td>\n",
       "    </tr>\n",
       "    <tr>\n",
       "      <th>145</th>\n",
       "      <th>Fiery Glass Crusader</th>\n",
       "      <td>9</td>\n",
       "      <td>4.58</td>\n",
       "      <td>41.22</td>\n",
       "    </tr>\n",
       "    <tr>\n",
       "      <th>92</th>\n",
       "      <th>Final Critic</th>\n",
       "      <td>8</td>\n",
       "      <td>4.88</td>\n",
       "      <td>39.04</td>\n",
       "    </tr>\n",
       "    <tr>\n",
       "      <th>103</th>\n",
       "      <th>Singed Scalpel</th>\n",
       "      <td>8</td>\n",
       "      <td>4.35</td>\n",
       "      <td>34.80</td>\n",
       "    </tr>\n",
       "  </tbody>\n",
       "</table>\n",
       "</div>"
      ],
      "text/plain": [
       "                                                      Purchase Count  \\\n",
       "Item ID Item Name                                                      \n",
       "178     Oathbreaker, Last Hope of the Breaking Storm              12   \n",
       "82      Nirvana                                                    9   \n",
       "145     Fiery Glass Crusader                                       9   \n",
       "92      Final Critic                                               8   \n",
       "103     Singed Scalpel                                             8   \n",
       "\n",
       "                                                      Item Price  \\\n",
       "Item ID Item Name                                                  \n",
       "178     Oathbreaker, Last Hope of the Breaking Storm        4.23   \n",
       "82      Nirvana                                             4.90   \n",
       "145     Fiery Glass Crusader                                4.58   \n",
       "92      Final Critic                                        4.88   \n",
       "103     Singed Scalpel                                      4.35   \n",
       "\n",
       "                                                      Total Purchase Value  \n",
       "Item ID Item Name                                                           \n",
       "178     Oathbreaker, Last Hope of the Breaking Storm                 50.76  \n",
       "82      Nirvana                                                      44.10  \n",
       "145     Fiery Glass Crusader                                         41.22  \n",
       "92      Final Critic                                                 39.04  \n",
       "103     Singed Scalpel                                               34.80  "
      ]
     },
     "execution_count": 20,
     "metadata": {},
     "output_type": "execute_result"
    }
   ],
   "source": [
    "most_popular.sort_values([\"Total Purchase Value\"], ascending=False).head()"
   ]
  },
  {
   "cell_type": "code",
   "execution_count": null,
   "metadata": {},
   "outputs": [],
   "source": []
  },
  {
   "cell_type": "code",
   "execution_count": null,
   "metadata": {},
   "outputs": [],
   "source": [
    "# Three Observations\n",
    "# 1. The \"Most Popular\" did not always equate to \"Most Profitable\" (according to this dataset).\n",
    "# 2. Total players peaked at age group \"20-24\" and drastically declined as the age group increased.\n",
    "# 3. Even though male players are the majority of players in this dataset, they spend the least on average for their purchases."
   ]
  }
 ],
 "metadata": {
  "kernelspec": {
   "display_name": "Python 3",
   "language": "python",
   "name": "python3"
  },
  "language_info": {
   "codemirror_mode": {
    "name": "ipython",
    "version": 3
   },
   "file_extension": ".py",
   "mimetype": "text/x-python",
   "name": "python",
   "nbconvert_exporter": "python",
   "pygments_lexer": "ipython3",
   "version": "3.7.1"
  }
 },
 "nbformat": 4,
 "nbformat_minor": 2
}
